{
 "cells": [
  {
   "cell_type": "code",
   "execution_count": null,
   "id": "67c1359d-f216-446f-ac4e-d345031d613a",
   "metadata": {},
   "outputs": [],
   "source": [
    "import pandas as pd\n",
    "from sklearn.ensemble import RandomForestClassifier\n",
    "from sklearn.metrics import accuracy_score, f1_score\n",
    "import os"
   ]
  },
  {
   "cell_type": "code",
   "execution_count": null,
   "id": "b5932117-b872-40b9-a3c0-a51606e6bae3",
   "metadata": {},
   "outputs": [],
   "source": [
    "from utils import load_data, save_params, save_res, plot_res"
   ]
  },
  {
   "cell_type": "markdown",
   "id": "3cdf7916-2b44-4ecc-95d6-ed4a026296fc",
   "metadata": {},
   "source": [
    "---"
   ]
  },
  {
   "cell_type": "markdown",
   "id": "c0746117-dac9-4b42-99b3-b143f4450079",
   "metadata": {},
   "source": [
    "#### Loading Data"
   ]
  },
  {
   "cell_type": "code",
   "execution_count": null,
   "id": "c8b081db-e657-4b0b-b99c-59e1c496752f",
   "metadata": {},
   "outputs": [],
   "source": [
    "data_path = '../Indian Pines dataset/indianpinearray.npy'\n",
    "gt_path = '../Indian Pines dataset/IPgt.npy'\n",
    "\n",
    "X_train, y_train, X_test, y_test = load_data(data_path, gt_path)\n",
    "print('Данные загружены')"
   ]
  },
  {
   "cell_type": "markdown",
   "id": "eab8f46b-7a64-4f6e-8ec7-cb2473a06912",
   "metadata": {},
   "source": [
    "---"
   ]
  },
  {
   "cell_type": "markdown",
   "id": "ed9658ee-ec3a-44cb-b3d3-f716e75d27cf",
   "metadata": {},
   "source": [
    "#### Training"
   ]
  },
  {
   "cell_type": "code",
   "execution_count": null,
   "id": "44fffc67-85de-43e7-aed5-d572af8d14ee",
   "metadata": {},
   "outputs": [],
   "source": [
    "model_name = 'default_RF'\n",
    "\n",
    "args = {\n",
    "    'n_estimators': 100,\n",
    "    'max_depth': None,\n",
    "    'min_samples_split': 2,\n",
    "    'min_samples_leaf': 1,\n",
    "    'random_state': 42,\n",
    "    'n_jobs': -1\n",
    "    }"
   ]
  },
  {
   "cell_type": "code",
   "execution_count": null,
   "id": "9eca6408-4db8-40a8-a6fc-6cf9c14f3d48",
   "metadata": {},
   "outputs": [],
   "source": [
    "rf = RandomForestClassifier(**args)\n",
    "\n",
    "rf.fit(X_train, y_train)\n",
    "print('Обучение завершено')\n",
    "\n",
    "save_params(f'../runs/RF/{model_name}', model_name, args)\n",
    "print('Модель сохранена')"
   ]
  },
  {
   "cell_type": "markdown",
   "id": "9a8baab3-3ea1-4cf1-a752-4faef705ae87",
   "metadata": {},
   "source": [
    "---"
   ]
  },
  {
   "cell_type": "markdown",
   "id": "28fb20c2-6d57-44f0-8eed-370560e5f2bb",
   "metadata": {},
   "source": [
    "#### Getting Results"
   ]
  },
  {
   "cell_type": "code",
   "execution_count": null,
   "id": "57e68bf7-f213-4cab-be63-60e265e69c5e",
   "metadata": {},
   "outputs": [],
   "source": [
    "y_pred = rf.predict(X_test)\n",
    "\n",
    "accuracy = accuracy_score(y_test, y_pred)\n",
    "f1 = f1_score(y_test, y_pred, average='weighted')\n",
    "print(f\"Accuracy: {accuracy:.3f}, F1: {f1:.3f}\")\n",
    "\n",
    "df = pd.DataFrame({'Accuracy': [accuracy], 'F1_score': [f1]})\n",
    "save_res(df, f'../runs/RF/{model_name}')\n",
    "print('Результаты модели сохранены')\n",
    "\n",
    "df['Model'] = [model_name]\n",
    "df = df.reindex(columns=['Model', 'Accuracy', 'F1_score'])\n",
    "save_res(df, '../results/RF', False)\n",
    "print('Результаты дописаны в общий файл')"
   ]
  },
  {
   "cell_type": "code",
   "execution_count": null,
   "id": "958c9d59-1016-40d7-8c03-592334781f64",
   "metadata": {},
   "outputs": [],
   "source": [
    "plot_res(f'../results/RF/results.csv', '../results/RF')"
   ]
  }
 ],
 "metadata": {
  "kernelspec": {
   "display_name": "Python [conda env:ml_basic_env]",
   "language": "python",
   "name": "conda-env-ml_basic_env-py"
  },
  "language_info": {
   "codemirror_mode": {
    "name": "ipython",
    "version": 3
   },
   "file_extension": ".py",
   "mimetype": "text/x-python",
   "name": "python",
   "nbconvert_exporter": "python",
   "pygments_lexer": "ipython3",
   "version": "3.13.5"
  },
  "widgets": {
   "application/vnd.jupyter.widget-state+json": {
    "state": {},
    "version_major": 2,
    "version_minor": 0
   }
  }
 },
 "nbformat": 4,
 "nbformat_minor": 5
}
