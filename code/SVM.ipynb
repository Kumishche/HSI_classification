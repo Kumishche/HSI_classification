{
 "cells": [
  {
   "cell_type": "code",
   "execution_count": null,
   "id": "2fb7f4f5-9e6d-4762-992d-826d9b7a9e06",
   "metadata": {},
   "outputs": [],
   "source": [
    "import pandas as pd\n",
    "from sklearn.svm import SVC\n",
    "from sklearn.metrics import accuracy_score, f1_score\n",
    "import os"
   ]
  },
  {
   "cell_type": "code",
   "execution_count": null,
   "id": "918062f1-8c4f-4f35-8511-542163b19479",
   "metadata": {},
   "outputs": [],
   "source": [
    "from utils import load_data, save_params, save_res, plot_res"
   ]
  },
  {
   "cell_type": "markdown",
   "id": "3cdf7916-2b44-4ecc-95d6-ed4a026296fc",
   "metadata": {},
   "source": [
    "---"
   ]
  },
  {
   "cell_type": "markdown",
   "id": "6205e877-c4e1-4dcf-a093-4bc6e054a219",
   "metadata": {},
   "source": [
    "#### Loading Data"
   ]
  },
  {
   "cell_type": "code",
   "execution_count": null,
   "id": "935f47a8-e316-4f8a-857d-2dfa435e38f5",
   "metadata": {},
   "outputs": [],
   "source": [
    "data_path = '../Indian Pines dataset/indianpinearray.npy'\n",
    "gt_path = '../Indian Pines dataset/IPgt.npy'\n",
    "\n",
    "X_train, y_train, X_test, y_test = load_data(data_path, gt_path)\n",
    "print('Данные загружены')"
   ]
  },
  {
   "cell_type": "markdown",
   "id": "381e9644-3219-4589-b26f-8e9cdf357fa5",
   "metadata": {},
   "source": [
    "---"
   ]
  },
  {
   "cell_type": "markdown",
   "id": "ed9658ee-ec3a-44cb-b3d3-f716e75d27cf",
   "metadata": {},
   "source": [
    "#### Training"
   ]
  },
  {
   "cell_type": "code",
   "execution_count": null,
   "id": "44fffc67-85de-43e7-aed5-d572af8d14ee",
   "metadata": {},
   "outputs": [],
   "source": [
    "model_name = 'default_SVM'\n",
    "\n",
    "args = {\n",
    "    'kernel': 'rbf',\n",
    "    'C': 1.0,\n",
    "    'degree': 3,\n",
    "    'gamma': 'scale',\n",
    "    'random_state': 42,\n",
    "    'decision_function_shape': 'ovr'\n",
    "    }"
   ]
  },
  {
   "cell_type": "code",
   "execution_count": null,
   "id": "9eca6408-4db8-40a8-a6fc-6cf9c14f3d48",
   "metadata": {},
   "outputs": [],
   "source": [
    "svm = SVC(**args)\n",
    "\n",
    "svm.fit(X_train, y_train)\n",
    "print('Обучение завершено')\n",
    "\n",
    "save_params(f'../runs/SVM/{model_name}', model_name, args)\n",
    "print('Модель сохранена')"
   ]
  },
  {
   "cell_type": "markdown",
   "id": "0f5f80d8-02b8-4b1d-a136-e0661dab725f",
   "metadata": {},
   "source": [
    "---"
   ]
  },
  {
   "cell_type": "markdown",
   "id": "df4d644b-6eb1-4084-9159-7d0eea388921",
   "metadata": {},
   "source": [
    "#### Getting Results"
   ]
  },
  {
   "cell_type": "code",
   "execution_count": null,
   "id": "57e68bf7-f213-4cab-be63-60e265e69c5e",
   "metadata": {},
   "outputs": [],
   "source": [
    "y_pred = svm.predict(X_test)\n",
    "\n",
    "accuracy = accuracy_score(y_test, y_pred)\n",
    "f1 = f1_score(y_test, y_pred, average='weighted')\n",
    "print(f\"Accuracy: {accuracy:.3f}, F1: {f1:.3f}\")\n",
    "\n",
    "df = pd.DataFrame({'Accuracy': [accuracy], 'F1_score': [f1]})\n",
    "save_res(df, f'../runs/SVM/{model_name}')\n",
    "print('Результаты модели сохранены')\n",
    "\n",
    "df['Model'] = [model_name]\n",
    "df = df.reindex(columns=['Model', 'Accuracy', 'F1_score'])\n",
    "save_res(df, '../results/SVM', False)\n",
    "print('Результаты дописаны в общий файл')"
   ]
  },
  {
   "cell_type": "code",
   "execution_count": null,
   "id": "99859cf9-7a4d-472b-8332-60c22e643b28",
   "metadata": {},
   "outputs": [],
   "source": [
    "plot_res(f'../results/SVM/results.csv', '../results/SVM')"
   ]
  }
 ],
 "metadata": {
  "kernelspec": {
   "display_name": "Python [conda env:ml_basic_env]",
   "language": "python",
   "name": "conda-env-ml_basic_env-py"
  },
  "language_info": {
   "codemirror_mode": {
    "name": "ipython",
    "version": 3
   },
   "file_extension": ".py",
   "mimetype": "text/x-python",
   "name": "python",
   "nbconvert_exporter": "python",
   "pygments_lexer": "ipython3",
   "version": "3.13.5"
  },
  "widgets": {
   "application/vnd.jupyter.widget-state+json": {
    "state": {},
    "version_major": 2,
    "version_minor": 0
   }
  }
 },
 "nbformat": 4,
 "nbformat_minor": 5
}
