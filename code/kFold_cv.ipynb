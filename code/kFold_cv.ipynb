{
 "cells": [
  {
   "cell_type": "code",
   "execution_count": null,
   "id": "67c1359d-f216-446f-ac4e-d345031d613a",
   "metadata": {},
   "outputs": [],
   "source": [
    "import numpy as np\n",
    "import pandas as pd\n",
    "import torch\n",
    "from torch.utils.data import DataLoader, TensorDataset\n",
    "from sklearn.model_selection import KFold\n",
    "import os"
   ]
  },
  {
   "cell_type": "code",
   "execution_count": null,
   "id": "89dbab4b-c78a-4207-8546-6dd88e19b779",
   "metadata": {},
   "outputs": [],
   "source": [
    "from utils import *\n",
    "from classFNN import FNN"
   ]
  },
  {
   "cell_type": "markdown",
   "id": "3cdf7916-2b44-4ecc-95d6-ed4a026296fc",
   "metadata": {},
   "source": [
    "---"
   ]
  },
  {
   "cell_type": "markdown",
   "id": "c0746117-dac9-4b42-99b3-b143f4450079",
   "metadata": {},
   "source": [
    "#### Loading Data"
   ]
  },
  {
   "cell_type": "code",
   "execution_count": null,
   "id": "c8b081db-e657-4b0b-b99c-59e1c496752f",
   "metadata": {},
   "outputs": [],
   "source": [
    "data_path = '../Indian Pines dataset/indianpinearray.npy'\n",
    "gt_path = '../Indian Pines dataset/IPgt.npy'\n",
    "\n",
    "(X_train, y_train, X_test, y_test) = load_data(data_path, gt_path)"
   ]
  },
  {
   "cell_type": "markdown",
   "id": "eab8f46b-7a64-4f6e-8ec7-cb2473a06912",
   "metadata": {},
   "source": [
    "---"
   ]
  },
  {
   "cell_type": "markdown",
   "id": "ed9658ee-ec3a-44cb-b3d3-f716e75d27cf",
   "metadata": {},
   "source": [
    "#### Training"
   ]
  },
  {
   "cell_type": "code",
   "execution_count": null,
   "id": "2faaecc2-7b02-4ec8-aabe-0d7f80fdb9e5",
   "metadata": {},
   "outputs": [],
   "source": [
    "mode = 'default_FNN'\n",
    "\n",
    "args = {\n",
    "    'batch': 256,\n",
    "    'epochs': 100,\n",
    "    'lr': 1e-3,\n",
    "    'l1_lambda': 0,\n",
    "    'l2_lambda': 0,\n",
    "    'dropout': 0,\n",
    "    'bn': False,\n",
    "    'k_folds': 10\n",
    "    }"
   ]
  },
  {
   "cell_type": "code",
   "execution_count": null,
   "id": "b791b25a-babd-403c-8567-c8ed895056f9",
   "metadata": {},
   "outputs": [],
   "source": [
    "kf = KFold(n_splits=args['k_folds'], shuffle=True, random_state=42)"
   ]
  },
  {
   "cell_type": "code",
   "execution_count": null,
   "id": "799f33c4-41de-41d7-8e85-e9cf88bcb501",
   "metadata": {},
   "outputs": [],
   "source": [
    "test_dataset = TensorDataset(\n",
    "    torch.FloatTensor(X_test),\n",
    "    torch.LongTensor(y_test))\n",
    "\n",
    "test_loader = DataLoader(\n",
    "    test_dataset, \n",
    "    batch_size=args['batch'], \n",
    "    shuffle=False)"
   ]
  },
  {
   "cell_type": "code",
   "execution_count": null,
   "id": "8d81e6b5-5daf-4d0a-8e0a-0c8fb9e86498",
   "metadata": {},
   "outputs": [],
   "source": [
    "models_to_train = load_models_architectures(\n",
    "    f'../architectures/models_{mode}.txt')\n",
    "\n",
    "print(f'Models to train: {len(models_to_train)}')"
   ]
  },
  {
   "cell_type": "code",
   "execution_count": null,
   "id": "277a2a78-b6aa-475f-9921-2924d0560100",
   "metadata": {},
   "outputs": [],
   "source": [
    "device = torch.device('cuda' if torch.cuda.is_available() else 'cpu')\n",
    "print(f'Device: {device}')"
   ]
  },
  {
   "cell_type": "code",
   "execution_count": null,
   "id": "ff93505c-1da1-43ed-9e4c-8f5fe4fbdcf3",
   "metadata": {},
   "outputs": [],
   "source": [
    "log_res = pd.DataFrame(columns=[\n",
    "        'Model', 'Accuracy', 'F1_score'])\n",
    "\n",
    "for params in models_to_train:\n",
    "    model = FNN(params, args['dropout'], args['bn']) \n",
    "    model.to(device)\n",
    "\n",
    "    model_name = '-'.join(map(str, params))\n",
    "    path = f'../runs/{mode}/{model_name}'\n",
    "    \n",
    "    train_losses, test_accuracies = [], []\n",
    "    \n",
    "    criterion = nn.CrossEntropyLoss()\n",
    "    optimizer = optim.Adam(model.parameters(), lr=args['lr'])\n",
    "\n",
    "    args['optimizer'] = optimizer\n",
    "    args['model'] = model\n",
    "    save_params(path, model_name, args)\n",
    "    log_train = pd.DataFrame(columns=[\n",
    "        'epochs', 'train_loss', 'val_loss',\n",
    "        'train_acc', 'val_acc'\n",
    "    ])\n",
    "\n",
    "    for epoch in range(args['epochs']):\n",
    "        current_fold = epoch % 5  \n",
    "        train_loss = 0.0; val_loss = 0.0\n",
    "        train_correct = 0; val_correct = 0\n",
    "        total_samples = 0\n",
    "        for fold, (train_idx, val_idx) in enumerate(kf.split(X_train)):\n",
    "            if fold != current_fold:\n",
    "                continue\n",
    "                \n",
    "            train_dataset = TensorDataset(\n",
    "                torch.FloatTensor(X_train[train_idx]), \n",
    "                torch.LongTensor(y_train[train_idx]))\n",
    "            \n",
    "            val_dataset = TensorDataset(\n",
    "                torch.FloatTensor(X_train[val_idx]), \n",
    "                torch.LongTensor(y_train[val_idx]))\n",
    "    \n",
    "            train_loader = DataLoader(\n",
    "                train_dataset, \n",
    "                batch_size=args['batch'], \n",
    "                shuffle=True)\n",
    "            \n",
    "            val_loader = DataLoader(\n",
    "                val_dataset, \n",
    "                batch_size=args['batch'],\n",
    "                shuffle=False)\n",
    "\n",
    "            model.train()\n",
    "            for inputs, labels in train_loader:\n",
    "                inputs, labels = inputs.to(device), labels.to(device)\n",
    "                optimizer.zero_grad()\n",
    "                outputs = model(inputs)\n",
    "                \n",
    "                if 'Lasso' in mode:\n",
    "                    loss = lasso_loss(\n",
    "                        model, criterion, \n",
    "                        outputs, labels, args['l1_lambda'])\n",
    "                elif 'Ridge' in mode:\n",
    "                    loss = ridge_loss(\n",
    "                        model, criterion, \n",
    "                        outputs, labels, args['l2_lambda'])\n",
    "                elif 'Elastic_net' in mode:\n",
    "                    loss = elastic_net_loss(\n",
    "                        model, criterion,\n",
    "                        outputs, labels, \n",
    "                        args['l1_lambda'],\n",
    "                        args['l2_lambda'])\n",
    "                else:\n",
    "                    loss = criterion(outputs, labels)    \n",
    "                    \n",
    "                loss.backward()\n",
    "                optimizer.step()\n",
    "                \n",
    "                train_loss += loss.item()\n",
    "                _, predicted = torch.max(outputs.data, 1)\n",
    "                train_correct += (predicted == labels).sum().item()\n",
    "                total_samples += labels.size(0)\n",
    "                \n",
    "            train_loss /= len(train_loader)\n",
    "            train_acc = train_correct / total_samples\n",
    "            total_samples = 0\n",
    "            model.eval()\n",
    "            \n",
    "            with torch.no_grad(): \n",
    "                for inputs, labels in val_loader:\n",
    "                    inputs, labels = inputs.to(device), labels.to(device)\n",
    "                    outputs = model(inputs)\n",
    "                    loss = criterion(outputs, labels)\n",
    "                    \n",
    "                    val_loss += loss.item()\n",
    "                    _, predicted = torch.max(outputs.data, 1)\n",
    "                    val_correct += (predicted == labels).sum().item()\n",
    "                    total_samples += labels.size(0)\n",
    "                    \n",
    "                val_loss /= len(val_loader)\n",
    "                val_acc = val_correct / total_samples\n",
    "                \n",
    "            log_train.loc[len(log_train)] = (\n",
    "                [int(epoch+1), train_loss, \n",
    "                 val_loss, train_acc, val_acc])\n",
    "\n",
    "    save_res(data=log_train, path=path, \n",
    "             rewrite=True, file_name='training')\n",
    "        \n",
    "    test_accuracy, test_f1 = evaluate_model(model, test_loader)\n",
    "    print(f'{model_name}: Accuracy: {test_accuracy:.3f}, F1-score: {test_f1:.3f}')\n",
    "    \n",
    "    df = pd.DataFrame(data=[[test_accuracy, test_f1]], \n",
    "                      columns=['Accuracy', 'F1_score'])\n",
    "    save_res(data=df, path=path)\n",
    "    \n",
    "    torch.save(model, os.path.join(path, 'model.pth'))\n",
    "\n",
    "    log_res.loc[len(log_res)] = (\n",
    "        [model_name, test_accuracy, test_f1])\n",
    "\n",
    "    \n",
    "save_res(data=log_res, path=f'../results/{mode}', rewrite=False)\n",
    "\n",
    "print('=========')\n",
    "print('Training completed')"
   ]
  },
  {
   "cell_type": "markdown",
   "id": "6c1d37aa-6044-49fc-833f-58644def0a3d",
   "metadata": {},
   "source": [
    "---"
   ]
  },
  {
   "cell_type": "markdown",
   "id": "faa6b1dc-23ab-47bb-b3b1-73f91f522575",
   "metadata": {},
   "source": [
    "#### Getting Results"
   ]
  },
  {
   "cell_type": "code",
   "execution_count": null,
   "id": "57c41aa1-c69a-4021-8c78-118cf74edbbe",
   "metadata": {},
   "outputs": [],
   "source": [
    "plot_res(path_csv=f'../results/FNN/{mode}/results.csv', \n",
    "         path_png=f'../results/FNN/{mode}')\n",
    "\n",
    "print('=========')\n",
    "print('Plot saved')"
   ]
  },
  {
   "cell_type": "code",
   "execution_count": null,
   "id": "af381050-7ee8-4634-8d35-501ce6eedb68",
   "metadata": {},
   "outputs": [],
   "source": [
    "series = []\n",
    "\n",
    "with open(f'../architectures/models_{mode}.txt', 'r') as f:\n",
    "    for model in f:\n",
    "        model = model.rstrip('\\n')\n",
    "        csv_file = f'../runs/{mode}/{model}/training.csv'\n",
    "        plot_train_val_loss(csv_file, \n",
    "                            path_png=f'../results/{mode}/train_val_loss',\n",
    "                            name_png=model,\n",
    "                            model_name=model):\n",
    "        \n",
    "print('=========')\n",
    "print('Plots saved')"
   ]
  }
 ],
 "metadata": {
  "kernelspec": {
   "display_name": "Python [conda env:ml_basic_env]",
   "language": "python",
   "name": "conda-env-ml_basic_env-py"
  },
  "language_info": {
   "codemirror_mode": {
    "name": "ipython",
    "version": 3
   },
   "file_extension": ".py",
   "mimetype": "text/x-python",
   "name": "python",
   "nbconvert_exporter": "python",
   "pygments_lexer": "ipython3",
   "version": "3.13.5"
  },
  "widgets": {
   "application/vnd.jupyter.widget-state+json": {
    "state": {},
    "version_major": 2,
    "version_minor": 0
   }
  }
 },
 "nbformat": 4,
 "nbformat_minor": 5
}
